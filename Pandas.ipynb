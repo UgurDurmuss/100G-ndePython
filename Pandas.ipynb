{
 "cells": [
  {
   "cell_type": "code",
   "execution_count": 56,
   "id": "3bc31635-ba21-498b-ac4a-791f2e49d825",
   "metadata": {},
   "outputs": [],
   "source": [
    "import pandas as pd\n",
    "import numpy as np\n"
   ]
  },
  {
   "cell_type": "code",
   "execution_count": 58,
   "id": "814d33e4-2fca-426e-ad9a-098cd97e38c5",
   "metadata": {},
   "outputs": [],
   "source": [
    "#series\n"
   ]
  },
  {
   "cell_type": "code",
   "execution_count": 60,
   "id": "3040742b-5c5d-4b1c-a76d-45da86455bb7",
   "metadata": {},
   "outputs": [],
   "source": [
    "love_artist={\"rihanna\":1,\"dua lipa\":2,\"sabrina carpenter\":3,\"Michael Jackson\":4}"
   ]
  },
  {
   "cell_type": "code",
   "execution_count": 62,
   "id": "346791ce-308e-4f7e-a6ab-2749789ca4c6",
   "metadata": {},
   "outputs": [
    {
     "data": {
      "text/plain": [
       "rihanna              1\n",
       "dua lipa             2\n",
       "sabrina carpenter    3\n",
       "Michael Jackson      4\n",
       "dtype: int64"
      ]
     },
     "execution_count": 62,
     "metadata": {},
     "output_type": "execute_result"
    }
   ],
   "source": [
    "pd.Series(love_artist)#pandas ait series modülü,bunun sayesine satır ve sütunlardan oluşan bir tablo elde ederiz\n"
   ]
  },
  {
   "cell_type": "code",
   "execution_count": 64,
   "id": "5a7fa3fa-b45e-4e54-939a-9f22147d7d8e",
   "metadata": {},
   "outputs": [],
   "source": [
    "nameList=[\"rihanna\",\"dua lipa\",\"sabrina carpenter\",\"michael jackson\"]\n",
    "ranks=[1,2,3,4]"
   ]
  },
  {
   "cell_type": "code",
   "execution_count": 66,
   "id": "e3569357-e171-4b3e-8f35-62c5c379e20f",
   "metadata": {},
   "outputs": [
    {
     "data": {
      "text/plain": [
       "1              rihanna\n",
       "2             dua lipa\n",
       "3    sabrina carpenter\n",
       "4      michael jackson\n",
       "dtype: object"
      ]
     },
     "execution_count": 66,
     "metadata": {},
     "output_type": "execute_result"
    }
   ],
   "source": [
    "pd.Series(nameList,ranks)#yer değiştirirsek tablo da değişir"
   ]
  },
  {
   "cell_type": "code",
   "execution_count": 70,
   "id": "00fadaca-2495-486b-b23f-94e844cc069b",
   "metadata": {},
   "outputs": [],
   "source": [
    "numpyArray=np.arange(0,8)#sıfırdan yediye kadar bir numpy dizisi"
   ]
  },
  {
   "cell_type": "code",
   "execution_count": 72,
   "id": "5a79e340-289e-4122-a7b7-70a5c71a6608",
   "metadata": {},
   "outputs": [
    {
     "data": {
      "text/plain": [
       "array([0, 1, 2, 3, 4, 5, 6, 7])"
      ]
     },
     "execution_count": 72,
     "metadata": {},
     "output_type": "execute_result"
    }
   ],
   "source": [
    "numpyArray"
   ]
  },
  {
   "cell_type": "code",
   "execution_count": 76,
   "id": "4d320ece-d6ee-4509-9f30-0f94d994675f",
   "metadata": {},
   "outputs": [
    {
     "data": {
      "text/plain": [
       "0    0\n",
       "1    1\n",
       "2    2\n",
       "3    3\n",
       "4    4\n",
       "5    5\n",
       "6    6\n",
       "7    7\n",
       "dtype: int32"
      ]
     },
     "execution_count": 76,
     "metadata": {},
     "output_type": "execute_result"
    }
   ],
   "source": [
    "pd.Series(numpyArray)#numpy dizimizi bir pandas serimize dönüştürdük,yine bir tablo"
   ]
  },
  {
   "cell_type": "code",
   "execution_count": 96,
   "id": "83e18d59-4239-420a-b168-397e28258662",
   "metadata": {},
   "outputs": [],
   "source": [
    "newNumpyArray=np.array([21,22,23,24])"
   ]
  },
  {
   "cell_type": "code",
   "execution_count": 98,
   "id": "221f198a-9e71-4f74-9fc2-4b06711aeecf",
   "metadata": {},
   "outputs": [
    {
     "data": {
      "text/plain": [
       "0    21\n",
       "1    22\n",
       "2    23\n",
       "3    24\n",
       "dtype: int32"
      ]
     },
     "execution_count": 98,
     "metadata": {},
     "output_type": "execute_result"
    }
   ],
   "source": [
    "pd.Series(newNumpyArray)"
   ]
  },
  {
   "cell_type": "code",
   "execution_count": 100,
   "id": "0b547277-31ac-4869-bf96-e20ba787d8c6",
   "metadata": {},
   "outputs": [
    {
     "data": {
      "text/plain": [
       "['rihanna', 'dua lipa', 'sabrina carpenter', 'michael jackson']"
      ]
     },
     "execution_count": 100,
     "metadata": {},
     "output_type": "execute_result"
    }
   ],
   "source": [
    "nameList"
   ]
  },
  {
   "cell_type": "code",
   "execution_count": 120,
   "id": "9bc40a34-f327-48be-9bda-db81b3bc1be7",
   "metadata": {},
   "outputs": [],
   "source": [
    "newSeries=pd.Series(data=newNumpyArray,index=nameList)#burda istediğmiz gibi index ve data yapıp,listelerle ile tablo oluşturabiliyoruz"
   ]
  },
  {
   "cell_type": "code",
   "execution_count": 122,
   "id": "feabbb84-0d6e-4bb2-8ea2-04ad78f47be9",
   "metadata": {},
   "outputs": [
    {
     "data": {
      "text/plain": [
       "rihanna              21\n",
       "dua lipa             22\n",
       "sabrina carpenter    23\n",
       "michael jackson      24\n",
       "dtype: int32"
      ]
     },
     "execution_count": 122,
     "metadata": {},
     "output_type": "execute_result"
    }
   ],
   "source": [
    "newSeries"
   ]
  },
  {
   "cell_type": "code",
   "execution_count": 126,
   "id": "44d3daef-3f7a-4261-9d55-94a3ece346f0",
   "metadata": {},
   "outputs": [
    {
     "data": {
      "text/plain": [
       "21"
      ]
     },
     "execution_count": 126,
     "metadata": {},
     "output_type": "execute_result"
    }
   ],
   "source": [
    "newSeries[\"rihanna\"]#isimler indexte olunca isme göre değer alabildim"
   ]
  },
  {
   "cell_type": "code",
   "execution_count": 134,
   "id": "2aae23f0-e003-46da-aa4c-a6ca55fa0bb5",
   "metadata": {},
   "outputs": [],
   "source": [
    "newSeries[\"rihanna\"]=25#seri üzerinde esnek bir şekilde değişiklik yapailiyorum"
   ]
  },
  {
   "cell_type": "code",
   "execution_count": 136,
   "id": "7820c410-aef7-4a4b-a60e-09aa841f83ab",
   "metadata": {},
   "outputs": [
    {
     "data": {
      "text/plain": [
       "rihanna              25\n",
       "dua lipa             22\n",
       "sabrina carpenter    23\n",
       "michael jackson      24\n",
       "dtype: int32"
      ]
     },
     "execution_count": 136,
     "metadata": {},
     "output_type": "execute_result"
    }
   ],
   "source": [
    "newSeries"
   ]
  },
  {
   "cell_type": "code",
   "execution_count": 162,
   "id": "61f9c3c3-4fa1-4cfa-a4d8-7bb50c08ed0f",
   "metadata": {},
   "outputs": [],
   "source": [
    "artist1=pd.Series(data=[10,20,30],index=[\"ceza\",\"şanışer\",\"sagopa\"])"
   ]
  },
  {
   "cell_type": "code",
   "execution_count": 164,
   "id": "9cb1c047-7680-4353-ac9c-6e4757ea7695",
   "metadata": {},
   "outputs": [],
   "source": [
    "artist2=pd.Series(data=[5,6,7],index=[\"ceza\",\"şanışer\",\"sagopa\"])"
   ]
  },
  {
   "cell_type": "code",
   "execution_count": 166,
   "id": "ae113868-d790-4c14-91ed-02139d8f4e18",
   "metadata": {},
   "outputs": [
    {
     "data": {
      "text/plain": [
       "ceza       10\n",
       "şanışer    20\n",
       "sagopa     30\n",
       "dtype: int64"
      ]
     },
     "execution_count": 166,
     "metadata": {},
     "output_type": "execute_result"
    }
   ],
   "source": [
    "artist1"
   ]
  },
  {
   "cell_type": "code",
   "execution_count": 168,
   "id": "ed4eb411-dfb2-4073-a27c-e8333d1e6003",
   "metadata": {},
   "outputs": [
    {
     "data": {
      "text/plain": [
       "ceza       5\n",
       "şanışer    6\n",
       "sagopa     7\n",
       "dtype: int64"
      ]
     },
     "execution_count": 168,
     "metadata": {},
     "output_type": "execute_result"
    }
   ],
   "source": [
    "artist2"
   ]
  },
  {
   "cell_type": "code",
   "execution_count": 172,
   "id": "bf4b078c-7ea2-421c-b831-8d86cd3cf360",
   "metadata": {},
   "outputs": [
    {
     "data": {
      "text/plain": [
       "ceza       15\n",
       "şanışer    26\n",
       "sagopa     37\n",
       "dtype: int64"
      ]
     },
     "execution_count": 172,
     "metadata": {},
     "output_type": "execute_result"
    }
   ],
   "source": [
    "artist1+artist2#indexler aynı olduğu sürece dataları toplayabilirsin"
   ]
  },
  {
   "cell_type": "code",
   "execution_count": 176,
   "id": "4533121e-3166-47c6-8726-cbf92f99f022",
   "metadata": {},
   "outputs": [],
   "source": [
    "exam_results1 = pd.Series(data=[70,60,100],index=[\"A\",\"B\",\"C\"])"
   ]
  },
  {
   "cell_type": "code",
   "execution_count": 178,
   "id": "52357ef1-5737-43c3-b2a4-bffa4c16cb87",
   "metadata": {},
   "outputs": [],
   "source": [
    "exam_results2 = pd.Series(data=[80,30,50],index=[\"A\",\"D\",\"C\"])"
   ]
  },
  {
   "cell_type": "code",
   "execution_count": 180,
   "id": "25042a1f-f7aa-4f61-b4ee-ecb964b57c0e",
   "metadata": {},
   "outputs": [
    {
     "data": {
      "text/plain": [
       "A    150.0\n",
       "B      NaN\n",
       "C    150.0\n",
       "D      NaN\n",
       "dtype: float64"
      ]
     },
     "execution_count": 180,
     "metadata": {},
     "output_type": "execute_result"
    }
   ],
   "source": [
    "exam_results1+exam_results2#indexler farklı olursa toplamak yerine NaN döner"
   ]
  },
  {
   "cell_type": "code",
   "execution_count": null,
   "id": "5dcc50b5-322c-4a30-afc5-97e1f241527d",
   "metadata": {},
   "outputs": [],
   "source": []
  }
 ],
 "metadata": {
  "kernelspec": {
   "display_name": "Python [conda env:anaconda3]",
   "language": "python",
   "name": "conda-env-anaconda3-py"
  },
  "language_info": {
   "codemirror_mode": {
    "name": "ipython",
    "version": 3
   },
   "file_extension": ".py",
   "mimetype": "text/x-python",
   "name": "python",
   "nbconvert_exporter": "python",
   "pygments_lexer": "ipython3",
   "version": "3.12.7"
  }
 },
 "nbformat": 4,
 "nbformat_minor": 5
}
